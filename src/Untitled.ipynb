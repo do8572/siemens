{
 "cells": [
  {
   "cell_type": "code",
   "execution_count": 2,
   "id": "36824c0e-03cf-4281-9705-2950d2086b18",
   "metadata": {},
   "outputs": [],
   "source": [
    "import pandas as pd\n",
    "import seaborn as sns"
   ]
  },
  {
   "cell_type": "code",
   "execution_count": 6,
   "id": "e96c9385-7a6e-4a26-9bb2-f3d41eb526fb",
   "metadata": {},
   "outputs": [
    {
     "name": "stderr",
     "output_type": "stream",
     "text": [
      "C:\\Users\\david\\AppData\\Local\\Temp\\ipykernel_30568\\3104077623.py:4: FutureWarning: The frame.append method is deprecated and will be removed from pandas in a future version. Use pandas.concat instead.\n",
      "  res = res.append(pd.read_csv(f\"./params/deepfm_{i}.csv\"))\n",
      "C:\\Users\\david\\AppData\\Local\\Temp\\ipykernel_30568\\3104077623.py:4: FutureWarning: The frame.append method is deprecated and will be removed from pandas in a future version. Use pandas.concat instead.\n",
      "  res = res.append(pd.read_csv(f\"./params/deepfm_{i}.csv\"))\n",
      "C:\\Users\\david\\AppData\\Local\\Temp\\ipykernel_30568\\3104077623.py:4: FutureWarning: The frame.append method is deprecated and will be removed from pandas in a future version. Use pandas.concat instead.\n",
      "  res = res.append(pd.read_csv(f\"./params/deepfm_{i}.csv\"))\n",
      "C:\\Users\\david\\AppData\\Local\\Temp\\ipykernel_30568\\3104077623.py:4: FutureWarning: The frame.append method is deprecated and will be removed from pandas in a future version. Use pandas.concat instead.\n",
      "  res = res.append(pd.read_csv(f\"./params/deepfm_{i}.csv\"))\n",
      "C:\\Users\\david\\AppData\\Local\\Temp\\ipykernel_30568\\3104077623.py:4: FutureWarning: The frame.append method is deprecated and will be removed from pandas in a future version. Use pandas.concat instead.\n",
      "  res = res.append(pd.read_csv(f\"./params/deepfm_{i}.csv\"))\n"
     ]
    }
   ],
   "source": [
    "res = pd.read_csv(f\"./params/deepfm_{0}.csv\")\n",
    "\n",
    "for i in range(1,6):\n",
    "    res = res.append(pd.read_csv(f\"./params/deepfm_{i}.csv\"))"
   ]
  },
  {
   "cell_type": "code",
   "execution_count": 10,
   "id": "28357f71-98c2-47fd-824c-cc9d2a7e6c31",
   "metadata": {},
   "outputs": [
    {
     "data": {
      "text/plain": [
       "<AxesSubplot:>"
      ]
     },
     "execution_count": 10,
     "metadata": {},
     "output_type": "execute_result"
    },
    {
     "data": {
      "image/png": "[encoded data removed]",
      "text/plain": [
       "<Figure size 432x288 with 2 Axes>"
      ]
     },
     "metadata": {
      "needs_background": "light"
     },
     "output_type": "display_data"
    }
   ],
   "source": [
    "corr = res.corr()\n",
    "\n",
    "# plot the heatmap\n",
    "sns.heatmap(corr, \n",
    "        xticklabels=corr.columns,\n",
    "        yticklabels=corr.columns,\n",
    "        cmap=\"YlGnBu\")"
   ]
  },
  {
   "cell_type": "code",
   "execution_count": 12,
   "id": "7601ecdd-3258-4fbd-b1c2-9bf4ad2aa6c8",
   "metadata": {},
   "outputs": [
    {
     "data": {
      "text/plain": [
       "duration       -0.198462\n",
       "round_epochs   -0.188142\n",
       "loss           -0.631661\n",
       "val_loss        1.000000\n",
       "k              -0.037320\n",
       "lr             -0.104731\n",
       "dropout         0.056241\n",
       "l1             -0.029052\n",
       "l2              0.153064\n",
       "Name: val_loss, dtype: float64"
      ]
     },
     "execution_count": 12,
     "metadata": {},
     "output_type": "execute_result"
    }
   ],
   "source": [
    "corr[\"val_loss\"]"
   ]
  },
  {
   "cell_type": "code",
   "execution_count": null,
   "id": "b7437d13-54d2-4c40-b65a-db0bc914709c",
   "metadata": {},
   "outputs": [],
   "source": []
  },
  {
   "cell_type": "code",
   "execution_count": 4,
   "id": "6af2166f-1277-41e7-9c84-f2121f57fd3f",
   "metadata": {},
   "outputs": [
    {
     "name": "stderr",
     "output_type": "stream",
     "text": [
      "C:\\Users\\david\\AppData\\Local\\Temp\\ipykernel_5356\\811215616.py:4: FutureWarning: The frame.append method is deprecated and will be removed from pandas in a future version. Use pandas.concat instead.\n",
      "  res = res.append(pd.read_csv(f\"./params/fm_{i}_tunning.csv\"))\n",
      "C:\\Users\\david\\AppData\\Local\\Temp\\ipykernel_5356\\811215616.py:4: FutureWarning: The frame.append method is deprecated and will be removed from pandas in a future version. Use pandas.concat instead.\n",
      "  res = res.append(pd.read_csv(f\"./params/fm_{i}_tunning.csv\"))\n",
      "C:\\Users\\david\\AppData\\Local\\Temp\\ipykernel_5356\\811215616.py:4: FutureWarning: The frame.append method is deprecated and will be removed from pandas in a future version. Use pandas.concat instead.\n",
      "  res = res.append(pd.read_csv(f\"./params/fm_{i}_tunning.csv\"))\n",
      "C:\\Users\\david\\AppData\\Local\\Temp\\ipykernel_5356\\811215616.py:4: FutureWarning: The frame.append method is deprecated and will be removed from pandas in a future version. Use pandas.concat instead.\n",
      "  res = res.append(pd.read_csv(f\"./params/fm_{i}_tunning.csv\"))\n",
      "C:\\Users\\david\\AppData\\Local\\Temp\\ipykernel_5356\\811215616.py:4: FutureWarning: The frame.append method is deprecated and will be removed from pandas in a future version. Use pandas.concat instead.\n",
      "  res = res.append(pd.read_csv(f\"./params/fm_{i}_tunning.csv\"))\n"
     ]
    }
   ],
   "source": [
    "res = pd.read_csv(f\"./params/fm_{0}_tunning.csv\")\n",
    "\n",
    "for i in range(1,6):\n",
    "    res = res.append(pd.read_csv(f\"./params/fm_{i}_tunning.csv\"))"
   ]
  },
  {
   "cell_type": "code",
   "execution_count": 5,
   "id": "5eea0f8b-2f1a-4bb6-af3b-db324deddcfa",
   "metadata": {},
   "outputs": [
    {
     "data": {
      "text/plain": [
       "<AxesSubplot:>"
      ]
     },
     "execution_count": 5,
     "metadata": {},
     "output_type": "execute_result"
    },
    {
     "data": {
      "image/png": "[encoded data removed]",
      "text/plain": [
       "<Figure size 432x288 with 2 Axes>"
      ]
     },
     "metadata": {
      "needs_background": "light"
     },
     "output_type": "display_data"
    }
   ],
   "source": [
    "corr = res.corr()\n",
    "\n",
    "# plot the heatmap\n",
    "sns.heatmap(corr, \n",
    "        xticklabels=corr.columns,\n",
    "        yticklabels=corr.columns,\n",
    "        cmap=\"YlGnBu\")"
   ]
  },
  {
   "cell_type": "code",
   "execution_count": 6,
   "id": "24582fd8-e918-4050-8f1d-65edefcca0f8",
   "metadata": {},
   "outputs": [
    {
     "data": {
      "text/plain": [
       "duration       -0.218585\n",
       "round_epochs   -0.019016\n",
       "loss            0.999736\n",
       "val_loss        1.000000\n",
       "k               0.063800\n",
       "lr              0.032055\n",
       "dropout         0.047952\n",
       "l1              0.069155\n",
       "l2             -0.006502\n",
       "Name: val_loss, dtype: float64"
      ]
     },
     "execution_count": 6,
     "metadata": {},
     "output_type": "execute_result"
    }
   ],
   "source": [
    "corr[\"val_loss\"]"
   ]
  }
 ],
 "metadata": {
  "kernelspec": {
   "display_name": "nigga",
   "language": "python",
   "name": "nigga"
  },
  "language_info": {
   "codemirror_mode": {
    "name": "ipython",
    "version": 3
   },
   "file_extension": ".py",
   "mimetype": "text/x-python",
   "name": "python",
   "nbconvert_exporter": "python",
   "pygments_lexer": "ipython3",
   "version": "3.10.4"
  }
 },
 "nbformat": 4,
 "nbformat_minor": 5
}
