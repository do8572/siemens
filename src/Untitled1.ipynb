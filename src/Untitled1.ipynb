{
 "cells": [
  {
   "cell_type": "code",
   "execution_count": 1,
   "id": "384359cb-e0c7-44be-90e9-3bc4198fad4f",
   "metadata": {},
   "outputs": [],
   "source": [
    "import pandas as pd"
   ]
  },
  {
   "cell_type": "code",
   "execution_count": 16,
   "id": "adcf546e-b562-4891-9560-fe3c321bc035",
   "metadata": {},
   "outputs": [],
   "source": [
    "transactions = pd.read_csv(\"dataset/transaction_history.csv\")\n",
    "transactions[\"prod\"] = transactions[\"prod\"].str.split(\"_\").apply(lambda x: x[0])"
   ]
  },
  {
   "cell_type": "code",
   "execution_count": 17,
   "id": "9ac591c7-e026-4b0b-a7dd-162d879edca0",
   "metadata": {},
   "outputs": [],
   "source": [
    "dist = transactions[[\"customer\", \"prod\"]].groupby(\"customer\").nunique()[\"prod\"].to_numpy()"
   ]
  },
  {
   "cell_type": "code",
   "execution_count": 18,
   "id": "1f337600-0be6-4b1c-bce8-ea44345ed3fb",
   "metadata": {},
   "outputs": [
    {
     "data": {
      "text/plain": [
       "(array([653.,   0., 468.,   0., 280.,   0., 240.,   0., 226.,   0., 168.,\n",
       "          0., 154.,   0., 101.,   0., 104.,   0.,  77.,   0.,  77.,   0.,\n",
       "         44.,   0.,   0.,  36.,   0.,  33.,   0.,  16.,   0.,  16.,   0.,\n",
       "         13.,   0.,   6.,   0.,   5.,   0.,   5.,   0.,   5.,   0.,   1.,\n",
       "          0.,   2.,   0.,   3.,   0.,   0.,   2.,   0.,   4.,   0.,   6.,\n",
       "          0.,   0.,   0.,   2.,   0.,   1.,   0.,   1.,   0.,   2.,   0.,\n",
       "          1.,   0.,   1.,   0.,   1.,   0.,   2.,   0.,   0.,   1.,   0.,\n",
       "          2.,   0.,   1.,   0.,   0.,   0.,   0.,   0.,   0.,   0.,   0.,\n",
       "          0.,   0.,   0.,   1.,   0.,   0.,   0.,   0.,   0.,   0.,   0.,\n",
       "          1.]),\n",
       " array([ 1.  ,  1.48,  1.96,  2.44,  2.92,  3.4 ,  3.88,  4.36,  4.84,\n",
       "         5.32,  5.8 ,  6.28,  6.76,  7.24,  7.72,  8.2 ,  8.68,  9.16,\n",
       "         9.64, 10.12, 10.6 , 11.08, 11.56, 12.04, 12.52, 13.  , 13.48,\n",
       "        13.96, 14.44, 14.92, 15.4 , 15.88, 16.36, 16.84, 17.32, 17.8 ,\n",
       "        18.28, 18.76, 19.24, 19.72, 20.2 , 20.68, 21.16, 21.64, 22.12,\n",
       "        22.6 , 23.08, 23.56, 24.04, 24.52, 25.  , 25.48, 25.96, 26.44,\n",
       "        26.92, 27.4 , 27.88, 28.36, 28.84, 29.32, 29.8 , 30.28, 30.76,\n",
       "        31.24, 31.72, 32.2 , 32.68, 33.16, 33.64, 34.12, 34.6 , 35.08,\n",
       "        35.56, 36.04, 36.52, 37.  , 37.48, 37.96, 38.44, 38.92, 39.4 ,\n",
       "        39.88, 40.36, 40.84, 41.32, 41.8 , 42.28, 42.76, 43.24, 43.72,\n",
       "        44.2 , 44.68, 45.16, 45.64, 46.12, 46.6 , 47.08, 47.56, 48.04,\n",
       "        48.52, 49.  ]),\n",
       " <BarContainer object of 100 artists>)"
      ]
     },
     "execution_count": 18,
     "metadata": {},
     "output_type": "execute_result"
    },
    {
     "data": {
      "image/png": "[encoded data removed]",
      "text/plain": [
       "<Figure size 432x288 with 1 Axes>"
      ]
     },
     "metadata": {
      "needs_background": "light"
     },
     "output_type": "display_data"
    }
   ],
   "source": [
    "import matplotlib.pyplot as plt\n",
    "plt.hist(dist, bins=100)"
   ]
  },
  {
   "cell_type": "code",
   "execution_count": null,
   "id": "df32a95d-8805-4be3-88dd-1b32efc0fbca",
   "metadata": {},
   "outputs": [],
   "source": []
  }
 ],
 "metadata": {
  "kernelspec": {
   "display_name": "nigga",
   "language": "python",
   "name": "nigga"
  },
  "language_info": {
   "codemirror_mode": {
    "name": "ipython",
    "version": 3
   },
   "file_extension": ".py",
   "mimetype": "text/x-python",
   "name": "python",
   "nbconvert_exporter": "python",
   "pygments_lexer": "ipython3",
   "version": "3.10.4"
  }
 },
 "nbformat": 4,
 "nbformat_minor": 5
}
