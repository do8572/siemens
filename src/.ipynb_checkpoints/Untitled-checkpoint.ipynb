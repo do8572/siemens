{
 "cells": [
  {
   "cell_type": "code",
   "execution_count": 2,
   "id": "36824c0e-03cf-4281-9705-2950d2086b18",
   "metadata": {},
   "outputs": [],
   "source": [
    "import pandas as pd"
   ]
  },
  {
   "cell_type": "code",
   "execution_count": 4,
   "id": "e96c9385-7a6e-4a26-9bb2-f3d41eb526fb",
   "metadata": {},
   "outputs": [],
   "source": [
    "res = pd.read_csv(f\"./params/deepfm_{0}.csv\")\n",
    "\n",
    "for i in range(1,6):\n",
    "    res = pd.read_csv(f\"./params/deepfm_{i}.csv\")"
   ]
  },
  {
   "cell_type": "code",
   "execution_count": null,
   "id": "28357f71-98c2-47fd-824c-cc9d2a7e6c31",
   "metadata": {},
   "outputs": [],
   "source": []
  }
 ],
 "metadata": {
  "kernelspec": {
   "display_name": "nigga",
   "language": "python",
   "name": "nigga"
  },
  "language_info": {
   "codemirror_mode": {
    "name": "ipython",
    "version": 3
   },
   "file_extension": ".py",
   "mimetype": "text/x-python",
   "name": "python",
   "nbconvert_exporter": "python",
   "pygments_lexer": "ipython3",
   "version": "3.10.4"
  }
 },
 "nbformat": 4,
 "nbformat_minor": 5
}
