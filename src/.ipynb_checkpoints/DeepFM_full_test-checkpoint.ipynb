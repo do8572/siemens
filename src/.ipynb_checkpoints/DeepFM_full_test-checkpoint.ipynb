{
 "cells": [
  {
   "cell_type": "code",
   "execution_count": 1,
   "id": "bc8bb2f4-15e0-4fc3-ba07-ae89e28107e1",
   "metadata": {},
   "outputs": [],
   "source": [
    "import numpy as np\n",
    "import pandas as pd\n",
    "from os.path import exists\n",
    "import tensorflow as tf\n",
    "import tensorflow.keras as keras\n",
    "from tensorflow.keras.preprocessing.text import Tokenizer\n",
    "from tensorflow.keras.preprocessing.sequence import pad_sequences\n",
    "from keras.utils.vis_utils import plot_model"
   ]
  },
  {
   "cell_type": "code",
   "execution_count": 2,
   "id": "68cbe38c-9eab-4983-9b00-7f4a1c5982ca",
   "metadata": {},
   "outputs": [],
   "source": [
    "def transaction_preprocess(transactions, train_bounds, test_bounds, time_period = 125):\n",
    "    \"\"\"\n",
    "    args:\n",
    "        transactions: pd.DataFrame -> the transaction_history.csv provided by Siemens\n",
    "        train_bounds, test_bounds: (lower: int, upper: int) -> bounds for splitting dataset into train and test based on \"day\" feature\n",
    "        time_period: map day feature into month, years, etc. (default 125 days = 4 months)\n",
    "    returns:\n",
    "        transactions: pd.DataFrame -> processed dataframe with encoded categories and mapped days\n",
    "        train_rnd_sample: pd.DataFrame -> all positive samples within train as well as an equal number of randomly sampled negative samples\n",
    "        test_rnd_sample: pd.DataFrame -> \n",
    "    \"\"\"\n",
    "    transactions = transactions.copy() \n",
    "    transactions[\"day\"] = transactions[\"day\"] // time_period # map days to weeks, months, years\n",
    "    \n",
    "    # encode categorical variables\n",
    "    transactions[\"prod\"] = transactions[\"prod\"].astype('category').cat.codes \n",
    "    transactions[\"customer\"] = transactions[\"customer\"].astype('category').cat.codes\n",
    "    transactions[\"state\"] = transactions[\"state\"].astype('category').cat.codes + 1\n",
    "    transactions[\"ind_code\"] = transactions[\"ind_code\"].astype('category').cat.codes + 1\n",
    "    transactions[\"ind_seg_code\"] = transactions[\"ind_seg_code\"].astype('category').cat.codes + 1\n",
    "    \n",
    "    # set labels to 1 - all products present were bought\n",
    "    transactions[\"label\"] = 1\n",
    "    \n",
    "    # FOR TESTING PURPOSES: I dont have much RAM :)\n",
    "    #transactions = transactions[transactions[\"customer\"] < 100]\n",
    "    \n",
    "    # create product customer list\n",
    "    transactions[\"prod_customer\"] = list(zip(transactions[\"customer\"], transactions[\"prod\"]))\n",
    "    # drop rows with missing values\n",
    "    transaction = transactions.dropna()\n",
    "    \n",
    "    # create train & test set\n",
    "    train = transactions[(transaction.day >= train_bounds[0] // time_period) & (transactions.day < train_bounds[1] // time_period)]\n",
    "    test = transactions[(transaction.day >= test_bounds[0] // time_period) & (transactions.day < test_bounds[1] // time_period)]\n",
    "    \n",
    "    # get unique customer and product lists\n",
    "    customers = transactions[\"customer\"].unique()\n",
    "    products = transactions[\"prod\"].unique()\n",
    "    \n",
    "    # set of day-customer-bought product for negative sampling\n",
    "    hit_combo = set(list(zip(transactions[\"day\"], transactions[\"customer\"], transactions[\"prod\"])))\n",
    "    \n",
    "    # get days and customers\n",
    "    test_days = test[\"day\"].unique()\n",
    "    hit_combo_2 = list(zip(test[\"day\"], test[\"customer\"]))\n",
    "    \n",
    "    # create simple test generator for customer (returns: pd.DataFrame with all days in test with all products for customer)\n",
    "    # generator necessary on my PC due to memory constraints: might not be on yours\n",
    "    prod_list = set(products)\n",
    "    test_customer_prod_day = list(set([tuple(r) for r in test[[\"day\", \"customer\", \"prod\"]].to_numpy()]))\n",
    "    \n",
    "    # Create test dataset\n",
    "    final_neg_sampl = test[[\"customer\", \"state\", \"ind_code\", \"ind_seg_code\"]].drop_duplicates() # customer info - customer_id unique identifier of customer\n",
    "    final_neg_sampl = final_neg_sampl.merge(pd.DataFrame(test_days, columns=[\"day\"]), how=\"cross\") # cartezian product of day and customer info\n",
    "    final_neg_sampl = final_neg_sampl.merge(pd.DataFrame(products, columns=[\"prod\"]), how=\"cross\") # cartezian product of product_id and customer info\n",
    "    final_neg_sampl[\"label\"] = 0 # set all products as unbought (non-sampled)\n",
    "    \n",
    "    # set positive samples to positive\n",
    "    for rday, rcustomer, rprod in test_customer_prod_day:\n",
    "        final_neg_sampl.loc[(final_neg_sampl.day == rday) & (final_neg_sampl.customer == rcustomer) & (final_neg_sampl[\"prod\"] == rprod), \"label\"] = 1\n",
    "    \n",
    "    # specify train sample size (c)\n",
    "    SAMPLE_SIZE = int(np.ceil(1.0 * len(train))) # Set negative train size\n",
    "    train_days = train[\"day\"].unique()\n",
    "    \n",
    "    # Bootstrap negative sample train set (only samples from train set were used) - in case no bootstraping is desired change replace -> False\n",
    "    # Removes potential outliers which have for example bought only one item or that are highly unlikely to buy an item\n",
    "    train_rnd_sample = np.array([np.random.choice(train_days, size=SAMPLE_SIZE),\\\n",
    "                                              np.random.choice(customers, size=SAMPLE_SIZE),\\\n",
    "                                              np.random.choice(products, size=SAMPLE_SIZE)]).T\n",
    "    \n",
    "    # remove samples that were actually bought (are in hit_combo)\n",
    "    not_faulty = [tuple(train_rnd_sample[row,:]) not in hit_combo for row in range(train_rnd_sample.shape[0])]\n",
    "    train_rnd_sample = train_rnd_sample[not_faulty]\n",
    "    \n",
    "    # Drop duplicated rows\n",
    "    train_rnd_sample = pd.DataFrame(train_rnd_sample,\n",
    "                                   columns=[\"day\", \"customer\", \"prod\"]).drop_duplicates()\n",
    "    \n",
    "    # Add customer info - uniquely defined by customer_id\n",
    "    train_rnd_sample = train_rnd_sample.merge(transactions[[\"customer\", \"domestic\", \"state\", \"ind_code\",\n",
    "                                                            \"ind_seg_code\"]].drop_duplicates(),\n",
    "                                              on=\"customer\")\n",
    "    train_rnd_sample[\"label\"] = 0 # Set negative labels\n",
    "    \n",
    "    # Merge positive and negative train samples\n",
    "    train_rnd_sample = train_rnd_sample.append(train[[\"day\", \"customer\", \"prod\", \"domestic\", \"state\", \"ind_code\",\n",
    "                                                            \"ind_seg_code\", \"label\"]], ignore_index=True)\n",
    "    \n",
    "    return transactions, train_rnd_sample.sample(frac=1).reset_index(drop=True), final_neg_sampl, products, customers"
   ]
  },
  {
   "cell_type": "code",
   "execution_count": 3,
   "id": "57395537-cf62-46a1-bb15-e7766727c661",
   "metadata": {},
   "outputs": [
    {
     "name": "stderr",
     "output_type": "stream",
     "text": [
      "C:\\Users\\david\\AppData\\Local\\Temp\\ipykernel_16260\\404638918.py:88: FutureWarning: The frame.append method is deprecated and will be removed from pandas in a future version. Use pandas.concat instead.\n",
      "  train_rnd_sample = train_rnd_sample.append(train[[\"day\", \"customer\", \"prod\", \"domestic\", \"state\", \"ind_code\",\n",
      "C:\\Users\\david\\AppData\\Local\\Temp\\ipykernel_16260\\404638918.py:88: FutureWarning: The frame.append method is deprecated and will be removed from pandas in a future version. Use pandas.concat instead.\n",
      "  train_rnd_sample = train_rnd_sample.append(train[[\"day\", \"customer\", \"prod\", \"domestic\", \"state\", \"ind_code\",\n",
      "C:\\Users\\david\\AppData\\Local\\Temp\\ipykernel_16260\\404638918.py:88: FutureWarning: The frame.append method is deprecated and will be removed from pandas in a future version. Use pandas.concat instead.\n",
      "  train_rnd_sample = train_rnd_sample.append(train[[\"day\", \"customer\", \"prod\", \"domestic\", \"state\", \"ind_code\",\n",
      "C:\\Users\\david\\AppData\\Local\\Temp\\ipykernel_16260\\404638918.py:88: FutureWarning: The frame.append method is deprecated and will be removed from pandas in a future version. Use pandas.concat instead.\n",
      "  train_rnd_sample = train_rnd_sample.append(train[[\"day\", \"customer\", \"prod\", \"domestic\", \"state\", \"ind_code\",\n",
      "C:\\Users\\david\\AppData\\Local\\Temp\\ipykernel_16260\\404638918.py:88: FutureWarning: The frame.append method is deprecated and will be removed from pandas in a future version. Use pandas.concat instead.\n",
      "  train_rnd_sample = train_rnd_sample.append(train[[\"day\", \"customer\", \"prod\", \"domestic\", \"state\", \"ind_code\",\n",
      "C:\\Users\\david\\AppData\\Local\\Temp\\ipykernel_16260\\404638918.py:88: FutureWarning: The frame.append method is deprecated and will be removed from pandas in a future version. Use pandas.concat instead.\n",
      "  train_rnd_sample = train_rnd_sample.append(train[[\"day\", \"customer\", \"prod\", \"domestic\", \"state\", \"ind_code\",\n"
     ]
    }
   ],
   "source": [
    "transactions = pd.read_csv(\"dataset/transaction_history.csv\")\n",
    "transformations = [] # train, test for different folds of CV\n",
    "for i in range(6):\n",
    "    transformed, train, test, products, customers = transaction_preprocess(transactions, (i*125, (i+4)*125), ((i+4)*125, (i+5)*125))\n",
    "    transformations.append((train, test)) # save only train, test - others are the same for all Folds\n",
    "train, test = transformations[0]"
   ]
  },
  {
   "cell_type": "code",
   "execution_count": 4,
   "id": "494f3675-ca57-4b29-8211-624cf7a581b7",
   "metadata": {},
   "outputs": [
    {
     "data": {
      "text/plain": [
       "1225"
      ]
     },
     "execution_count": 4,
     "metadata": {},
     "output_type": "execute_result"
    }
   ],
   "source": [
    "np.sum(test.label)"
   ]
  },
  {
   "cell_type": "code",
   "execution_count": 20,
   "id": "4f6d7463-e884-4f27-91e2-8756ccc08b84",
   "metadata": {},
   "outputs": [
    {
     "data": {
      "text/plain": [
       "1225"
      ]
     },
     "execution_count": 20,
     "metadata": {},
     "output_type": "execute_result"
    }
   ],
   "source": [
    "len(transformed[(transformed.day == 4)][[\"day\", \"customer\", \"prod\"]].drop_duplicates()) # should be the same as # of positive labels"
   ]
  },
  {
   "cell_type": "code",
   "execution_count": 12,
   "id": "659336b7-114d-4276-a759-c31ea8c6c050",
   "metadata": {},
   "outputs": [
    {
     "data": {
      "text/plain": [
       "array([2, 1, 0, 3], dtype=int64)"
      ]
     },
     "execution_count": 12,
     "metadata": {},
     "output_type": "execute_result"
    }
   ],
   "source": [
    "train.day.unique()"
   ]
  },
  {
   "cell_type": "code",
   "execution_count": 6,
   "id": "1b105d9d-c5d3-4530-bf32-9575e29f0893",
   "metadata": {},
   "outputs": [
    {
     "ename": "ValueError",
     "evalue": "not enough values to unpack (expected 5, got 2)",
     "output_type": "error",
     "traceback": [
      "\u001b[1;31m---------------------------------------------------------------------------\u001b[0m",
      "\u001b[1;31mValueError\u001b[0m                                Traceback (most recent call last)",
      "Input \u001b[1;32mIn [6]\u001b[0m, in \u001b[0;36m<cell line: 1>\u001b[1;34m()\u001b[0m\n\u001b[1;32m----> 1\u001b[0m transformed, train, test_generator, products, customers \u001b[38;5;241m=\u001b[39m  transformations[\u001b[38;5;241m0\u001b[39m]\n\u001b[0;32m      2\u001b[0m test_generator(\u001b[38;5;241m0\u001b[39m)\n",
      "\u001b[1;31mValueError\u001b[0m: not enough values to unpack (expected 5, got 2)"
     ]
    }
   ],
   "source": [
    "transformed, train, test_generator, products, customers =  transformations[0]\n",
    "test_generator(0)"
   ]
  },
  {
   "cell_type": "code",
   "execution_count": 12,
   "id": "88aa100d-ca8c-450e-8e1f-f14500607579",
   "metadata": {},
   "outputs": [
    {
     "data": {
      "text/html": [
       "<div>\n",
       "<style scoped>\n",
       "    .dataframe tbody tr th:only-of-type {\n",
       "        vertical-align: middle;\n",
       "    }\n",
       "\n",
       "    .dataframe tbody tr th {\n",
       "        vertical-align: top;\n",
       "    }\n",
       "\n",
       "    .dataframe thead th {\n",
       "        text-align: right;\n",
       "    }\n",
       "</style>\n",
       "<table border=\"1\" class=\"dataframe\">\n",
       "  <thead>\n",
       "    <tr style=\"text-align: right;\">\n",
       "      <th></th>\n",
       "      <th>day</th>\n",
       "      <th>customer</th>\n",
       "      <th>prod</th>\n",
       "      <th>domestic</th>\n",
       "      <th>state</th>\n",
       "      <th>ind_code</th>\n",
       "      <th>ind_seg_code</th>\n",
       "      <th>label</th>\n",
       "    </tr>\n",
       "  </thead>\n",
       "  <tbody>\n",
       "    <tr>\n",
       "      <th>0</th>\n",
       "      <td>0</td>\n",
       "      <td>416</td>\n",
       "      <td>2896</td>\n",
       "      <td>True</td>\n",
       "      <td>7</td>\n",
       "      <td>12</td>\n",
       "      <td>23</td>\n",
       "      <td>0</td>\n",
       "    </tr>\n",
       "    <tr>\n",
       "      <th>1</th>\n",
       "      <td>3</td>\n",
       "      <td>1373</td>\n",
       "      <td>6804</td>\n",
       "      <td>True</td>\n",
       "      <td>8</td>\n",
       "      <td>16</td>\n",
       "      <td>31</td>\n",
       "      <td>0</td>\n",
       "    </tr>\n",
       "    <tr>\n",
       "      <th>2</th>\n",
       "      <td>3</td>\n",
       "      <td>948</td>\n",
       "      <td>4305</td>\n",
       "      <td>True</td>\n",
       "      <td>5</td>\n",
       "      <td>2</td>\n",
       "      <td>2</td>\n",
       "      <td>0</td>\n",
       "    </tr>\n",
       "    <tr>\n",
       "      <th>3</th>\n",
       "      <td>1</td>\n",
       "      <td>2596</td>\n",
       "      <td>8368</td>\n",
       "      <td>True</td>\n",
       "      <td>5</td>\n",
       "      <td>12</td>\n",
       "      <td>23</td>\n",
       "      <td>1</td>\n",
       "    </tr>\n",
       "    <tr>\n",
       "      <th>4</th>\n",
       "      <td>2</td>\n",
       "      <td>1374</td>\n",
       "      <td>3080</td>\n",
       "      <td>True</td>\n",
       "      <td>3</td>\n",
       "      <td>16</td>\n",
       "      <td>30</td>\n",
       "      <td>0</td>\n",
       "    </tr>\n",
       "    <tr>\n",
       "      <th>...</th>\n",
       "      <td>...</td>\n",
       "      <td>...</td>\n",
       "      <td>...</td>\n",
       "      <td>...</td>\n",
       "      <td>...</td>\n",
       "      <td>...</td>\n",
       "      <td>...</td>\n",
       "      <td>...</td>\n",
       "    </tr>\n",
       "    <tr>\n",
       "      <th>453877</th>\n",
       "      <td>2</td>\n",
       "      <td>2170</td>\n",
       "      <td>6429</td>\n",
       "      <td>True</td>\n",
       "      <td>8</td>\n",
       "      <td>22</td>\n",
       "      <td>42</td>\n",
       "      <td>0</td>\n",
       "    </tr>\n",
       "    <tr>\n",
       "      <th>453878</th>\n",
       "      <td>0</td>\n",
       "      <td>2461</td>\n",
       "      <td>5331</td>\n",
       "      <td>True</td>\n",
       "      <td>5</td>\n",
       "      <td>4</td>\n",
       "      <td>7</td>\n",
       "      <td>0</td>\n",
       "    </tr>\n",
       "    <tr>\n",
       "      <th>453879</th>\n",
       "      <td>2</td>\n",
       "      <td>2016</td>\n",
       "      <td>8122</td>\n",
       "      <td>True</td>\n",
       "      <td>7</td>\n",
       "      <td>0</td>\n",
       "      <td>0</td>\n",
       "      <td>1</td>\n",
       "    </tr>\n",
       "    <tr>\n",
       "      <th>453880</th>\n",
       "      <td>0</td>\n",
       "      <td>350</td>\n",
       "      <td>2900</td>\n",
       "      <td>True</td>\n",
       "      <td>5</td>\n",
       "      <td>5</td>\n",
       "      <td>10</td>\n",
       "      <td>0</td>\n",
       "    </tr>\n",
       "    <tr>\n",
       "      <th>453881</th>\n",
       "      <td>2</td>\n",
       "      <td>14</td>\n",
       "      <td>9446</td>\n",
       "      <td>True</td>\n",
       "      <td>5</td>\n",
       "      <td>5</td>\n",
       "      <td>10</td>\n",
       "      <td>0</td>\n",
       "    </tr>\n",
       "  </tbody>\n",
       "</table>\n",
       "<p>453882 rows × 8 columns</p>\n",
       "</div>"
      ],
      "text/plain": [
       "        day  customer  prod  domestic  state  ind_code  ind_seg_code  label\n",
       "0         0       416  2896      True      7        12            23      0\n",
       "1         3      1373  6804      True      8        16            31      0\n",
       "2         3       948  4305      True      5         2             2      0\n",
       "3         1      2596  8368      True      5        12            23      1\n",
       "4         2      1374  3080      True      3        16            30      0\n",
       "...     ...       ...   ...       ...    ...       ...           ...    ...\n",
       "453877    2      2170  6429      True      8        22            42      0\n",
       "453878    0      2461  5331      True      5         4             7      0\n",
       "453879    2      2016  8122      True      7         0             0      1\n",
       "453880    0       350  2900      True      5         5            10      0\n",
       "453881    2        14  9446      True      5         5            10      0\n",
       "\n",
       "[453882 rows x 8 columns]"
      ]
     },
     "execution_count": 12,
     "metadata": {},
     "output_type": "execute_result"
    }
   ],
   "source": [
    "transformed, train, test_generator, products, customers =  transformations[1]\n",
    "test_generator(0)"
   ]
  },
  {
   "cell_type": "code",
   "execution_count": 16,
   "id": "6208d26c-f8f5-4678-85e4-6f95ef3ef7c6",
   "metadata": {},
   "outputs": [],
   "source": [
    "for i in customers:\n",
    "    test_generator(i)"
   ]
  },
  {
   "cell_type": "code",
   "execution_count": 14,
   "id": "95b19c1d-07c6-4cda-99f7-01f218a76ca7",
   "metadata": {},
   "outputs": [
    {
     "data": {
      "text/plain": [
       "array([  48, 1472,  229, ..., 2493, 1064, 2033], dtype=int16)"
      ]
     },
     "execution_count": 14,
     "metadata": {},
     "output_type": "execute_result"
    }
   ],
   "source": [
    "customers"
   ]
  }
 ],
 "metadata": {
  "kernelspec": {
   "display_name": "nigga",
   "language": "python",
   "name": "nigga"
  },
  "language_info": {
   "codemirror_mode": {
    "name": "ipython",
    "version": 3
   },
   "file_extension": ".py",
   "mimetype": "text/x-python",
   "name": "python",
   "nbconvert_exporter": "python",
   "pygments_lexer": "ipython3",
   "version": "3.10.4"
  }
 },
 "nbformat": 4,
 "nbformat_minor": 5
}
